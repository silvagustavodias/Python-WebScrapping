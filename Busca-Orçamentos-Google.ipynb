{
 "cells": [
  {
   "cell_type": "code",
   "execution_count": 203,
   "id": "b0e67aae",
   "metadata": {},
   "outputs": [],
   "source": [
    "from urllib.request import urlopen\n",
    "import urllib.request as urllib_request\n",
    "import os\n",
    "from bs4 import BeautifulSoup\n",
    "from urllib.request import Request\n",
    "from urllib.error import URLError, HTTPError\n",
    "from selenium import webdriver\n",
    "from selenium.webdriver.chrome.options import Options\n",
    "import time\n",
    "from selenium.webdriver import Chrome\n",
    "from selenium.webdriver.common.alert import Alert\n"
   ]
  },
  {
   "cell_type": "code",
   "execution_count": 218,
   "id": "a70ecc15",
   "metadata": {},
   "outputs": [],
   "source": [
    "item_pesquisa = \"tubo pvc 50mm esgoto\"\n",
    "\n",
    "html = preparar_html(item_pesquisa)\n",
    "\n",
    "links = raspagem_de_links(html)\n",
    "\n",
    "captura_imagens(links)\n",
    "\n",
    "\n",
    "\n"
   ]
  },
  {
   "cell_type": "code",
   "execution_count": 202,
   "id": "534df48d",
   "metadata": {},
   "outputs": [],
   "source": [
    "def preparar_html(item):\n",
    "    url = faz_url(item)\n",
    "    return gerador_html(url)\n",
    "   \n",
    "def faz_url(item):\n",
    "    return fr'https://www.google.com/search?q={item.replace(\" \", \"+\")}+-mercadolivre'\n",
    "\n",
    "def gerador_html(url):\n",
    "    headers = { 'User-Agent': 'Mozilla/5.0 (Windows NT 10.0; Win64; x64) AppleWebKit/537.36 (KHTML, like Gecko) Chrome/99.0.4844.74 Safari/537.36 Edg/99.0.1150.46'}\n",
    "    req = Request(url, headers = headers)\n",
    "    response = urlopen(req)\n",
    "    html = response.read()\n",
    "    return trata_html(html)\n",
    "\n",
    "def preparar_pastas(item):\n",
    "    nome_pasta = f\"Orçamento - {item}\"\n",
    "    os.makedirs(f'{nome_pasta}')\n",
    "    os.chdir(f\"{nome_pasta}\")\n",
    "\n",
    "def raspagem_de_links(html):\n",
    "    soup = BeautifulSoup(html,  'html.parser')\n",
    "    link_pesquisa = soup.findAll('a', {'class': 'plantl pla-unit-title-link'})\n",
    "    todos_links=[]\n",
    "    for link in link_pesquisa:\n",
    "        todos_links.append(link.get('href'))\n",
    "    return todos_links\n",
    "\n",
    "def captura_imagens(links):    \n",
    "    chrome_options = Options()\n",
    "    chrome_options.add_argument('--headless')\n",
    "    chrome_options.add_argument('--start-maximized')\n",
    "    browser = Chrome()\n",
    "    current_os = os.getcwd()\n",
    "    preparar_pastas(item_pesquisa)\n",
    "    for index, link in enumerate(links):  \n",
    "        browser.get(f'{link}')\n",
    "        time.sleep(2)\n",
    "        browser.save_screenshot(f'foto{str(index)}.png')\n",
    "\n",
    "    os.chdir(current_os)\n",
    "    browser.quit\n",
    "\n",
    "def trata_html(input):\n",
    "    input = input.decode('utf-8')\n",
    "    return \" \".join(input.split()).replace('> <', '><')\n"
   ]
  },
  {
   "cell_type": "code",
   "execution_count": 208,
   "id": "a501b950",
   "metadata": {},
   "outputs": [
    {
     "data": {
      "text/plain": [
       "'C:\\\\Users\\\\silva\\\\Meu Drive\\\\111- PROGRAMAÇÃO\\\\Python\\\\web-scraping-aula-1-inicio'"
      ]
     },
     "execution_count": 208,
     "metadata": {},
     "output_type": "execute_result"
    }
   ],
   "source": []
  },
  {
   "cell_type": "code",
   "execution_count": 217,
   "id": "9029e20c",
   "metadata": {},
   "outputs": [
    {
     "ename": "ValueError",
     "evalue": "'mercadolivre' is not in list",
     "output_type": "error",
     "traceback": [
      "\u001b[1;31m---------------------------------------------------------------------------\u001b[0m",
      "\u001b[1;31mValueError\u001b[0m                                Traceback (most recent call last)",
      "\u001b[1;32m~\\AppData\\Local\\Temp/ipykernel_7392/281552649.py\u001b[0m in \u001b[0;36m<module>\u001b[1;34m\u001b[0m\n\u001b[1;32m----> 1\u001b[1;33m \u001b[0mlinks\u001b[0m\u001b[1;33m.\u001b[0m\u001b[0mindex\u001b[0m\u001b[1;33m(\u001b[0m\u001b[1;34m'mercadolivre'\u001b[0m\u001b[1;33m)\u001b[0m\u001b[1;33m\u001b[0m\u001b[1;33m\u001b[0m\u001b[0m\n\u001b[0m",
      "\u001b[1;31mValueError\u001b[0m: 'mercadolivre' is not in list"
     ]
    }
   ],
   "source": []
  },
  {
   "cell_type": "code",
   "execution_count": null,
   "id": "42e5bdd9",
   "metadata": {},
   "outputs": [],
   "source": []
  },
  {
   "cell_type": "code",
   "execution_count": null,
   "id": "9fed5ac1",
   "metadata": {},
   "outputs": [],
   "source": []
  },
  {
   "cell_type": "code",
   "execution_count": null,
   "id": "3641c051",
   "metadata": {},
   "outputs": [],
   "source": []
  },
  {
   "cell_type": "code",
   "execution_count": null,
   "id": "cfecfbb6",
   "metadata": {
    "collapsed": true
   },
   "outputs": [],
   "source": []
  },
  {
   "cell_type": "code",
   "execution_count": null,
   "id": "4966ed23",
   "metadata": {},
   "outputs": [],
   "source": []
  }
 ],
 "metadata": {
  "kernelspec": {
   "display_name": "Python 3 (ipykernel)",
   "language": "python",
   "name": "python3"
  },
  "language_info": {
   "codemirror_mode": {
    "name": "ipython",
    "version": 3
   },
   "file_extension": ".py",
   "mimetype": "text/x-python",
   "name": "python",
   "nbconvert_exporter": "python",
   "pygments_lexer": "ipython3",
   "version": "3.9.7"
  }
 },
 "nbformat": 4,
 "nbformat_minor": 5
}
